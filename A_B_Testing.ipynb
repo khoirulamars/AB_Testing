{
  "nbformat": 4,
  "nbformat_minor": 0,
  "metadata": {
    "colab": {
      "provenance": [],
      "collapsed_sections": [
        "_-9CqTrdjYZq",
        "EerrMj75kMD9",
        "jfVqwN3OnVij",
        "XxI3FENFdMdF",
        "R6mgJL-xXL-4",
        "uOuxghmuZgRk",
        "HLUSYBi7cllU",
        "vAZAxHtih82o",
        "DldJdBdStVYK",
        "s4cXPD2CiGhi",
        "8ryD15lvuMib",
        "IckYbL29dus4"
      ]
    },
    "kernelspec": {
      "name": "python3",
      "display_name": "Python 3"
    },
    "language_info": {
      "name": "python"
    }
  },
  "cells": [
    {
      "cell_type": "code",
      "execution_count": 52,
      "metadata": {
        "colab": {
          "base_uri": "https://localhost:8080/"
        },
        "id": "mhzC04pdSyXz",
        "outputId": "f72a09db-d9bf-4afd-89ef-ed4ea248ead4"
      },
      "outputs": [
        {
          "output_type": "stream",
          "name": "stdout",
          "text": [
            "Drive already mounted at /content/drive; to attempt to forcibly remount, call drive.mount(\"/content/drive\", force_remount=True).\n"
          ]
        }
      ],
      "source": [
        "from google.colab import drive\n",
        "drive.mount('/content/drive')"
      ]
    },
    {
      "cell_type": "markdown",
      "source": [
        "# A/B Testing Experiment - Introduction"
      ],
      "metadata": {
        "id": "_-9CqTrdjYZq"
      }
    },
    {
      "cell_type": "markdown",
      "source": [
        "Perusahaan pemasaran ingin melakukan kampanye yang sukses dalam pasar yang cukup kompleks. Untuk menjawab apakah kampanye akan sukses dan seberapa besar kesuksesan yang dapat dikaitkan dengan iklan akan dilakukan sebuah eksperimen (A/B Testing). A/B testing sebuah proses eksperimen acak dengan dua versi untuk menentukan versi dengan dampak maksimum. Pertanyaan yang ingin dijawab apakah kampanye akan sukses? seberapa besar kesuksesan yang dapat dikaitkan dengan iklan?"
      ],
      "metadata": {
        "id": "0W5GpHqxjcEd"
      }
    },
    {
      "cell_type": "markdown",
      "source": [
        "# Setting Up Problem"
      ],
      "metadata": {
        "id": "EerrMj75kMD9"
      }
    },
    {
      "cell_type": "markdown",
      "source": [
        "Dataset yang digunakan berasal dari kaggle [Dataset](https://www.kaggle.com/datasets/faviovaz/marketing-ab-testing?resource=download)\n",
        "\n",
        "Data dictionary:\n",
        "\n",
        "- Index: Row index\n",
        "- user id: User ID (unique)\n",
        "- test group: If \"ad\" the person saw the advertisement, if \"psa\" they only saw - the public service announcement\n",
        "- converted: If a person bought the product then True, else is False\n",
        "- total ads: Amount of ads seen by person\n",
        "- most ads day: Day that the person saw the biggest amount of ads\n",
        "- most ads hour: Hour of day that the person saw the biggest amount of ads"
      ],
      "metadata": {
        "id": "uyYb2RGBkV9E"
      }
    },
    {
      "cell_type": "markdown",
      "source": [
        "### Experiment Goal\n",
        "\n",
        "> Untuk menentukan apakah kampanye pemasaran ini berhasil dan jika berhasil, seberapa efektif iklan dalam mendorong konversi atau penjualan barang.\n",
        "\n",
        "### Metrics\n",
        "\n",
        "> Metrik yang digunakan untuk A/B Testing ini adalah Conversion Rate.\n",
        "\n",
        "### Variants\n",
        "\n",
        "> Berdasarkan dataset ada dua variants:\n",
        "\n",
        "> 1. Control → Samples yang melihat Public Services Ads (PSA)\n",
        "2. Treatment → Samples yang melihat iklan\n",
        "\n",
        "### Hypothesis\n",
        "\n",
        "> H_0 : Nilai conversion rate iklan lebih rendah atau sama dengan nilai conversion rate pas.\n",
        "\n",
        "> H_1 : Nilai conversion rate iklan lebih tinggi dari nilai conversion rate psa."
      ],
      "metadata": {
        "id": "6bSbRMoHkgzR"
      }
    },
    {
      "cell_type": "markdown",
      "source": [
        "# Designing Experiments"
      ],
      "metadata": {
        "id": "jfVqwN3OnVij"
      }
    },
    {
      "cell_type": "markdown",
      "source": [
        "- Randomization Unit : User ID\n",
        "- Target of Randomization Unit : User\n",
        "- Significant Level (alpha) : 5%\n",
        "- Power Level :95 %\n",
        "- Standard deviation of population: -\n",
        "- Difference between control and treatment (1%) in Conversion Rate"
      ],
      "metadata": {
        "id": "wTtphB3snX88"
      }
    },
    {
      "cell_type": "markdown",
      "source": [
        "### Menghitung sample size"
      ],
      "metadata": {
        "id": "0JBjtPtlntEf"
      }
    },
    {
      "cell_type": "markdown",
      "source": [
        "![image.png](data:image/png;base64,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)"
      ],
      "metadata": {
        "id": "VST5NWHcrF9S"
      }
    },
    {
      "cell_type": "markdown",
      "source": [
        "# Analyzing and Interpreting the Data"
      ],
      "metadata": {
        "id": "XxI3FENFdMdF"
      }
    },
    {
      "cell_type": "markdown",
      "source": [
        "## Read Dataset"
      ],
      "metadata": {
        "id": "R6mgJL-xXL-4"
      }
    },
    {
      "cell_type": "code",
      "source": [
        "import pandas as pd\n",
        "import numpy as np\n",
        "\n",
        "import matplotlib.pyplot as plt\n",
        "import seaborn as sns\n",
        "\n",
        "from scipy.stats import ttest_ind"
      ],
      "metadata": {
        "id": "LX_1mIcjTTWc"
      },
      "execution_count": 53,
      "outputs": []
    },
    {
      "cell_type": "code",
      "source": [
        "df = pd.read_csv('/content/drive/MyDrive/Pacmann/marketing_AB.csv')\n",
        "df.head()"
      ],
      "metadata": {
        "colab": {
          "base_uri": "https://localhost:8080/",
          "height": 206
        },
        "id": "qOMjr4YpTWlJ",
        "outputId": "0ec899d1-f2ff-4fef-dc19-332c947b2a15"
      },
      "execution_count": 54,
      "outputs": [
        {
          "output_type": "execute_result",
          "data": {
            "text/plain": [
              "   Unnamed: 0  user id test group  converted  total ads most ads day  \\\n",
              "0           0  1069124         ad      False        130       Monday   \n",
              "1           1  1119715         ad      False         93      Tuesday   \n",
              "2           2  1144181         ad      False         21      Tuesday   \n",
              "3           3  1435133         ad      False        355      Tuesday   \n",
              "4           4  1015700         ad      False        276       Friday   \n",
              "\n",
              "   most ads hour  \n",
              "0             20  \n",
              "1             22  \n",
              "2             18  \n",
              "3             10  \n",
              "4             14  "
            ],
            "text/html": [
              "\n",
              "  <div id=\"df-3c6f6070-6602-45e4-8511-232bb63dc11b\" class=\"colab-df-container\">\n",
              "    <div>\n",
              "<style scoped>\n",
              "    .dataframe tbody tr th:only-of-type {\n",
              "        vertical-align: middle;\n",
              "    }\n",
              "\n",
              "    .dataframe tbody tr th {\n",
              "        vertical-align: top;\n",
              "    }\n",
              "\n",
              "    .dataframe thead th {\n",
              "        text-align: right;\n",
              "    }\n",
              "</style>\n",
              "<table border=\"1\" class=\"dataframe\">\n",
              "  <thead>\n",
              "    <tr style=\"text-align: right;\">\n",
              "      <th></th>\n",
              "      <th>Unnamed: 0</th>\n",
              "      <th>user id</th>\n",
              "      <th>test group</th>\n",
              "      <th>converted</th>\n",
              "      <th>total ads</th>\n",
              "      <th>most ads day</th>\n",
              "      <th>most ads hour</th>\n",
              "    </tr>\n",
              "  </thead>\n",
              "  <tbody>\n",
              "    <tr>\n",
              "      <th>0</th>\n",
              "      <td>0</td>\n",
              "      <td>1069124</td>\n",
              "      <td>ad</td>\n",
              "      <td>False</td>\n",
              "      <td>130</td>\n",
              "      <td>Monday</td>\n",
              "      <td>20</td>\n",
              "    </tr>\n",
              "    <tr>\n",
              "      <th>1</th>\n",
              "      <td>1</td>\n",
              "      <td>1119715</td>\n",
              "      <td>ad</td>\n",
              "      <td>False</td>\n",
              "      <td>93</td>\n",
              "      <td>Tuesday</td>\n",
              "      <td>22</td>\n",
              "    </tr>\n",
              "    <tr>\n",
              "      <th>2</th>\n",
              "      <td>2</td>\n",
              "      <td>1144181</td>\n",
              "      <td>ad</td>\n",
              "      <td>False</td>\n",
              "      <td>21</td>\n",
              "      <td>Tuesday</td>\n",
              "      <td>18</td>\n",
              "    </tr>\n",
              "    <tr>\n",
              "      <th>3</th>\n",
              "      <td>3</td>\n",
              "      <td>1435133</td>\n",
              "      <td>ad</td>\n",
              "      <td>False</td>\n",
              "      <td>355</td>\n",
              "      <td>Tuesday</td>\n",
              "      <td>10</td>\n",
              "    </tr>\n",
              "    <tr>\n",
              "      <th>4</th>\n",
              "      <td>4</td>\n",
              "      <td>1015700</td>\n",
              "      <td>ad</td>\n",
              "      <td>False</td>\n",
              "      <td>276</td>\n",
              "      <td>Friday</td>\n",
              "      <td>14</td>\n",
              "    </tr>\n",
              "  </tbody>\n",
              "</table>\n",
              "</div>\n",
              "    <div class=\"colab-df-buttons\">\n",
              "\n",
              "  <div class=\"colab-df-container\">\n",
              "    <button class=\"colab-df-convert\" onclick=\"convertToInteractive('df-3c6f6070-6602-45e4-8511-232bb63dc11b')\"\n",
              "            title=\"Convert this dataframe to an interactive table.\"\n",
              "            style=\"display:none;\">\n",
              "\n",
              "  <svg xmlns=\"http://www.w3.org/2000/svg\" height=\"24px\" viewBox=\"0 -960 960 960\">\n",
              "    <path d=\"M120-120v-720h720v720H120Zm60-500h600v-160H180v160Zm220 220h160v-160H400v160Zm0 220h160v-160H400v160ZM180-400h160v-160H180v160Zm440 0h160v-160H620v160ZM180-180h160v-160H180v160Zm440 0h160v-160H620v160Z\"/>\n",
              "  </svg>\n",
              "    </button>\n",
              "\n",
              "  <style>\n",
              "    .colab-df-container {\n",
              "      display:flex;\n",
              "      gap: 12px;\n",
              "    }\n",
              "\n",
              "    .colab-df-convert {\n",
              "      background-color: #E8F0FE;\n",
              "      border: none;\n",
              "      border-radius: 50%;\n",
              "      cursor: pointer;\n",
              "      display: none;\n",
              "      fill: #1967D2;\n",
              "      height: 32px;\n",
              "      padding: 0 0 0 0;\n",
              "      width: 32px;\n",
              "    }\n",
              "\n",
              "    .colab-df-convert:hover {\n",
              "      background-color: #E2EBFA;\n",
              "      box-shadow: 0px 1px 2px rgba(60, 64, 67, 0.3), 0px 1px 3px 1px rgba(60, 64, 67, 0.15);\n",
              "      fill: #174EA6;\n",
              "    }\n",
              "\n",
              "    .colab-df-buttons div {\n",
              "      margin-bottom: 4px;\n",
              "    }\n",
              "\n",
              "    [theme=dark] .colab-df-convert {\n",
              "      background-color: #3B4455;\n",
              "      fill: #D2E3FC;\n",
              "    }\n",
              "\n",
              "    [theme=dark] .colab-df-convert:hover {\n",
              "      background-color: #434B5C;\n",
              "      box-shadow: 0px 1px 3px 1px rgba(0, 0, 0, 0.15);\n",
              "      filter: drop-shadow(0px 1px 2px rgba(0, 0, 0, 0.3));\n",
              "      fill: #FFFFFF;\n",
              "    }\n",
              "  </style>\n",
              "\n",
              "    <script>\n",
              "      const buttonEl =\n",
              "        document.querySelector('#df-3c6f6070-6602-45e4-8511-232bb63dc11b button.colab-df-convert');\n",
              "      buttonEl.style.display =\n",
              "        google.colab.kernel.accessAllowed ? 'block' : 'none';\n",
              "\n",
              "      async function convertToInteractive(key) {\n",
              "        const element = document.querySelector('#df-3c6f6070-6602-45e4-8511-232bb63dc11b');\n",
              "        const dataTable =\n",
              "          await google.colab.kernel.invokeFunction('convertToInteractive',\n",
              "                                                    [key], {});\n",
              "        if (!dataTable) return;\n",
              "\n",
              "        const docLinkHtml = 'Like what you see? Visit the ' +\n",
              "          '<a target=\"_blank\" href=https://colab.research.google.com/notebooks/data_table.ipynb>data table notebook</a>'\n",
              "          + ' to learn more about interactive tables.';\n",
              "        element.innerHTML = '';\n",
              "        dataTable['output_type'] = 'display_data';\n",
              "        await google.colab.output.renderOutput(dataTable, element);\n",
              "        const docLink = document.createElement('div');\n",
              "        docLink.innerHTML = docLinkHtml;\n",
              "        element.appendChild(docLink);\n",
              "      }\n",
              "    </script>\n",
              "  </div>\n",
              "\n",
              "\n",
              "<div id=\"df-b0d3f393-2ce1-426f-9f7c-3a12203fa279\">\n",
              "  <button class=\"colab-df-quickchart\" onclick=\"quickchart('df-b0d3f393-2ce1-426f-9f7c-3a12203fa279')\"\n",
              "            title=\"Suggest charts.\"\n",
              "            style=\"display:none;\">\n",
              "\n",
              "<svg xmlns=\"http://www.w3.org/2000/svg\" height=\"24px\"viewBox=\"0 0 24 24\"\n",
              "     width=\"24px\">\n",
              "    <g>\n",
              "        <path d=\"M19 3H5c-1.1 0-2 .9-2 2v14c0 1.1.9 2 2 2h14c1.1 0 2-.9 2-2V5c0-1.1-.9-2-2-2zM9 17H7v-7h2v7zm4 0h-2V7h2v10zm4 0h-2v-4h2v4z\"/>\n",
              "    </g>\n",
              "</svg>\n",
              "  </button>\n",
              "\n",
              "<style>\n",
              "  .colab-df-quickchart {\n",
              "      --bg-color: #E8F0FE;\n",
              "      --fill-color: #1967D2;\n",
              "      --hover-bg-color: #E2EBFA;\n",
              "      --hover-fill-color: #174EA6;\n",
              "      --disabled-fill-color: #AAA;\n",
              "      --disabled-bg-color: #DDD;\n",
              "  }\n",
              "\n",
              "  [theme=dark] .colab-df-quickchart {\n",
              "      --bg-color: #3B4455;\n",
              "      --fill-color: #D2E3FC;\n",
              "      --hover-bg-color: #434B5C;\n",
              "      --hover-fill-color: #FFFFFF;\n",
              "      --disabled-bg-color: #3B4455;\n",
              "      --disabled-fill-color: #666;\n",
              "  }\n",
              "\n",
              "  .colab-df-quickchart {\n",
              "    background-color: var(--bg-color);\n",
              "    border: none;\n",
              "    border-radius: 50%;\n",
              "    cursor: pointer;\n",
              "    display: none;\n",
              "    fill: var(--fill-color);\n",
              "    height: 32px;\n",
              "    padding: 0;\n",
              "    width: 32px;\n",
              "  }\n",
              "\n",
              "  .colab-df-quickchart:hover {\n",
              "    background-color: var(--hover-bg-color);\n",
              "    box-shadow: 0 1px 2px rgba(60, 64, 67, 0.3), 0 1px 3px 1px rgba(60, 64, 67, 0.15);\n",
              "    fill: var(--button-hover-fill-color);\n",
              "  }\n",
              "\n",
              "  .colab-df-quickchart-complete:disabled,\n",
              "  .colab-df-quickchart-complete:disabled:hover {\n",
              "    background-color: var(--disabled-bg-color);\n",
              "    fill: var(--disabled-fill-color);\n",
              "    box-shadow: none;\n",
              "  }\n",
              "\n",
              "  .colab-df-spinner {\n",
              "    border: 2px solid var(--fill-color);\n",
              "    border-color: transparent;\n",
              "    border-bottom-color: var(--fill-color);\n",
              "    animation:\n",
              "      spin 1s steps(1) infinite;\n",
              "  }\n",
              "\n",
              "  @keyframes spin {\n",
              "    0% {\n",
              "      border-color: transparent;\n",
              "      border-bottom-color: var(--fill-color);\n",
              "      border-left-color: var(--fill-color);\n",
              "    }\n",
              "    20% {\n",
              "      border-color: transparent;\n",
              "      border-left-color: var(--fill-color);\n",
              "      border-top-color: var(--fill-color);\n",
              "    }\n",
              "    30% {\n",
              "      border-color: transparent;\n",
              "      border-left-color: var(--fill-color);\n",
              "      border-top-color: var(--fill-color);\n",
              "      border-right-color: var(--fill-color);\n",
              "    }\n",
              "    40% {\n",
              "      border-color: transparent;\n",
              "      border-right-color: var(--fill-color);\n",
              "      border-top-color: var(--fill-color);\n",
              "    }\n",
              "    60% {\n",
              "      border-color: transparent;\n",
              "      border-right-color: var(--fill-color);\n",
              "    }\n",
              "    80% {\n",
              "      border-color: transparent;\n",
              "      border-right-color: var(--fill-color);\n",
              "      border-bottom-color: var(--fill-color);\n",
              "    }\n",
              "    90% {\n",
              "      border-color: transparent;\n",
              "      border-bottom-color: var(--fill-color);\n",
              "    }\n",
              "  }\n",
              "</style>\n",
              "\n",
              "  <script>\n",
              "    async function quickchart(key) {\n",
              "      const quickchartButtonEl =\n",
              "        document.querySelector('#' + key + ' button');\n",
              "      quickchartButtonEl.disabled = true;  // To prevent multiple clicks.\n",
              "      quickchartButtonEl.classList.add('colab-df-spinner');\n",
              "      try {\n",
              "        const charts = await google.colab.kernel.invokeFunction(\n",
              "            'suggestCharts', [key], {});\n",
              "      } catch (error) {\n",
              "        console.error('Error during call to suggestCharts:', error);\n",
              "      }\n",
              "      quickchartButtonEl.classList.remove('colab-df-spinner');\n",
              "      quickchartButtonEl.classList.add('colab-df-quickchart-complete');\n",
              "    }\n",
              "    (() => {\n",
              "      let quickchartButtonEl =\n",
              "        document.querySelector('#df-b0d3f393-2ce1-426f-9f7c-3a12203fa279 button');\n",
              "      quickchartButtonEl.style.display =\n",
              "        google.colab.kernel.accessAllowed ? 'block' : 'none';\n",
              "    })();\n",
              "  </script>\n",
              "</div>\n",
              "    </div>\n",
              "  </div>\n"
            ]
          },
          "metadata": {},
          "execution_count": 54
        }
      ]
    },
    {
      "cell_type": "markdown",
      "source": [
        "## Data Preprocessing & Data Cleaning"
      ],
      "metadata": {
        "id": "uOuxghmuZgRk"
      }
    },
    {
      "cell_type": "code",
      "source": [
        "df.info()"
      ],
      "metadata": {
        "colab": {
          "base_uri": "https://localhost:8080/"
        },
        "id": "WUCApfa_ZFQb",
        "outputId": "d4ffe9ce-4ad2-4c43-c1fa-b8d453b45392"
      },
      "execution_count": 55,
      "outputs": [
        {
          "output_type": "stream",
          "name": "stdout",
          "text": [
            "<class 'pandas.core.frame.DataFrame'>\n",
            "RangeIndex: 588101 entries, 0 to 588100\n",
            "Data columns (total 7 columns):\n",
            " #   Column         Non-Null Count   Dtype \n",
            "---  ------         --------------   ----- \n",
            " 0   Unnamed: 0     588101 non-null  int64 \n",
            " 1   user id        588101 non-null  int64 \n",
            " 2   test group     588101 non-null  object\n",
            " 3   converted      588101 non-null  bool  \n",
            " 4   total ads      588101 non-null  int64 \n",
            " 5   most ads day   588101 non-null  object\n",
            " 6   most ads hour  588101 non-null  int64 \n",
            "dtypes: bool(1), int64(4), object(2)\n",
            "memory usage: 27.5+ MB\n"
          ]
        }
      ]
    },
    {
      "cell_type": "code",
      "source": [
        "df.describe()"
      ],
      "metadata": {
        "colab": {
          "base_uri": "https://localhost:8080/",
          "height": 300
        },
        "id": "HPm3CINaa_ZZ",
        "outputId": "80a3a157-d997-45fb-9faf-b948b521024f"
      },
      "execution_count": 56,
      "outputs": [
        {
          "output_type": "execute_result",
          "data": {
            "text/plain": [
              "          Unnamed: 0       user id      total ads  most ads hour\n",
              "count  588101.000000  5.881010e+05  588101.000000  588101.000000\n",
              "mean   294050.000000  1.310692e+06      24.820876      14.469061\n",
              "std    169770.279668  2.022260e+05      43.715181       4.834634\n",
              "min         0.000000  9.000000e+05       1.000000       0.000000\n",
              "25%    147025.000000  1.143190e+06       4.000000      11.000000\n",
              "50%    294050.000000  1.313725e+06      13.000000      14.000000\n",
              "75%    441075.000000  1.484088e+06      27.000000      18.000000\n",
              "max    588100.000000  1.654483e+06    2065.000000      23.000000"
            ],
            "text/html": [
              "\n",
              "  <div id=\"df-175170a3-ea23-4d17-a995-d4512481c7b1\" class=\"colab-df-container\">\n",
              "    <div>\n",
              "<style scoped>\n",
              "    .dataframe tbody tr th:only-of-type {\n",
              "        vertical-align: middle;\n",
              "    }\n",
              "\n",
              "    .dataframe tbody tr th {\n",
              "        vertical-align: top;\n",
              "    }\n",
              "\n",
              "    .dataframe thead th {\n",
              "        text-align: right;\n",
              "    }\n",
              "</style>\n",
              "<table border=\"1\" class=\"dataframe\">\n",
              "  <thead>\n",
              "    <tr style=\"text-align: right;\">\n",
              "      <th></th>\n",
              "      <th>Unnamed: 0</th>\n",
              "      <th>user id</th>\n",
              "      <th>total ads</th>\n",
              "      <th>most ads hour</th>\n",
              "    </tr>\n",
              "  </thead>\n",
              "  <tbody>\n",
              "    <tr>\n",
              "      <th>count</th>\n",
              "      <td>588101.000000</td>\n",
              "      <td>5.881010e+05</td>\n",
              "      <td>588101.000000</td>\n",
              "      <td>588101.000000</td>\n",
              "    </tr>\n",
              "    <tr>\n",
              "      <th>mean</th>\n",
              "      <td>294050.000000</td>\n",
              "      <td>1.310692e+06</td>\n",
              "      <td>24.820876</td>\n",
              "      <td>14.469061</td>\n",
              "    </tr>\n",
              "    <tr>\n",
              "      <th>std</th>\n",
              "      <td>169770.279668</td>\n",
              "      <td>2.022260e+05</td>\n",
              "      <td>43.715181</td>\n",
              "      <td>4.834634</td>\n",
              "    </tr>\n",
              "    <tr>\n",
              "      <th>min</th>\n",
              "      <td>0.000000</td>\n",
              "      <td>9.000000e+05</td>\n",
              "      <td>1.000000</td>\n",
              "      <td>0.000000</td>\n",
              "    </tr>\n",
              "    <tr>\n",
              "      <th>25%</th>\n",
              "      <td>147025.000000</td>\n",
              "      <td>1.143190e+06</td>\n",
              "      <td>4.000000</td>\n",
              "      <td>11.000000</td>\n",
              "    </tr>\n",
              "    <tr>\n",
              "      <th>50%</th>\n",
              "      <td>294050.000000</td>\n",
              "      <td>1.313725e+06</td>\n",
              "      <td>13.000000</td>\n",
              "      <td>14.000000</td>\n",
              "    </tr>\n",
              "    <tr>\n",
              "      <th>75%</th>\n",
              "      <td>441075.000000</td>\n",
              "      <td>1.484088e+06</td>\n",
              "      <td>27.000000</td>\n",
              "      <td>18.000000</td>\n",
              "    </tr>\n",
              "    <tr>\n",
              "      <th>max</th>\n",
              "      <td>588100.000000</td>\n",
              "      <td>1.654483e+06</td>\n",
              "      <td>2065.000000</td>\n",
              "      <td>23.000000</td>\n",
              "    </tr>\n",
              "  </tbody>\n",
              "</table>\n",
              "</div>\n",
              "    <div class=\"colab-df-buttons\">\n",
              "\n",
              "  <div class=\"colab-df-container\">\n",
              "    <button class=\"colab-df-convert\" onclick=\"convertToInteractive('df-175170a3-ea23-4d17-a995-d4512481c7b1')\"\n",
              "            title=\"Convert this dataframe to an interactive table.\"\n",
              "            style=\"display:none;\">\n",
              "\n",
              "  <svg xmlns=\"http://www.w3.org/2000/svg\" height=\"24px\" viewBox=\"0 -960 960 960\">\n",
              "    <path d=\"M120-120v-720h720v720H120Zm60-500h600v-160H180v160Zm220 220h160v-160H400v160Zm0 220h160v-160H400v160ZM180-400h160v-160H180v160Zm440 0h160v-160H620v160ZM180-180h160v-160H180v160Zm440 0h160v-160H620v160Z\"/>\n",
              "  </svg>\n",
              "    </button>\n",
              "\n",
              "  <style>\n",
              "    .colab-df-container {\n",
              "      display:flex;\n",
              "      gap: 12px;\n",
              "    }\n",
              "\n",
              "    .colab-df-convert {\n",
              "      background-color: #E8F0FE;\n",
              "      border: none;\n",
              "      border-radius: 50%;\n",
              "      cursor: pointer;\n",
              "      display: none;\n",
              "      fill: #1967D2;\n",
              "      height: 32px;\n",
              "      padding: 0 0 0 0;\n",
              "      width: 32px;\n",
              "    }\n",
              "\n",
              "    .colab-df-convert:hover {\n",
              "      background-color: #E2EBFA;\n",
              "      box-shadow: 0px 1px 2px rgba(60, 64, 67, 0.3), 0px 1px 3px 1px rgba(60, 64, 67, 0.15);\n",
              "      fill: #174EA6;\n",
              "    }\n",
              "\n",
              "    .colab-df-buttons div {\n",
              "      margin-bottom: 4px;\n",
              "    }\n",
              "\n",
              "    [theme=dark] .colab-df-convert {\n",
              "      background-color: #3B4455;\n",
              "      fill: #D2E3FC;\n",
              "    }\n",
              "\n",
              "    [theme=dark] .colab-df-convert:hover {\n",
              "      background-color: #434B5C;\n",
              "      box-shadow: 0px 1px 3px 1px rgba(0, 0, 0, 0.15);\n",
              "      filter: drop-shadow(0px 1px 2px rgba(0, 0, 0, 0.3));\n",
              "      fill: #FFFFFF;\n",
              "    }\n",
              "  </style>\n",
              "\n",
              "    <script>\n",
              "      const buttonEl =\n",
              "        document.querySelector('#df-175170a3-ea23-4d17-a995-d4512481c7b1 button.colab-df-convert');\n",
              "      buttonEl.style.display =\n",
              "        google.colab.kernel.accessAllowed ? 'block' : 'none';\n",
              "\n",
              "      async function convertToInteractive(key) {\n",
              "        const element = document.querySelector('#df-175170a3-ea23-4d17-a995-d4512481c7b1');\n",
              "        const dataTable =\n",
              "          await google.colab.kernel.invokeFunction('convertToInteractive',\n",
              "                                                    [key], {});\n",
              "        if (!dataTable) return;\n",
              "\n",
              "        const docLinkHtml = 'Like what you see? Visit the ' +\n",
              "          '<a target=\"_blank\" href=https://colab.research.google.com/notebooks/data_table.ipynb>data table notebook</a>'\n",
              "          + ' to learn more about interactive tables.';\n",
              "        element.innerHTML = '';\n",
              "        dataTable['output_type'] = 'display_data';\n",
              "        await google.colab.output.renderOutput(dataTable, element);\n",
              "        const docLink = document.createElement('div');\n",
              "        docLink.innerHTML = docLinkHtml;\n",
              "        element.appendChild(docLink);\n",
              "      }\n",
              "    </script>\n",
              "  </div>\n",
              "\n",
              "\n",
              "<div id=\"df-127e1401-62b1-4297-8cc9-28a5fcddaec1\">\n",
              "  <button class=\"colab-df-quickchart\" onclick=\"quickchart('df-127e1401-62b1-4297-8cc9-28a5fcddaec1')\"\n",
              "            title=\"Suggest charts.\"\n",
              "            style=\"display:none;\">\n",
              "\n",
              "<svg xmlns=\"http://www.w3.org/2000/svg\" height=\"24px\"viewBox=\"0 0 24 24\"\n",
              "     width=\"24px\">\n",
              "    <g>\n",
              "        <path d=\"M19 3H5c-1.1 0-2 .9-2 2v14c0 1.1.9 2 2 2h14c1.1 0 2-.9 2-2V5c0-1.1-.9-2-2-2zM9 17H7v-7h2v7zm4 0h-2V7h2v10zm4 0h-2v-4h2v4z\"/>\n",
              "    </g>\n",
              "</svg>\n",
              "  </button>\n",
              "\n",
              "<style>\n",
              "  .colab-df-quickchart {\n",
              "      --bg-color: #E8F0FE;\n",
              "      --fill-color: #1967D2;\n",
              "      --hover-bg-color: #E2EBFA;\n",
              "      --hover-fill-color: #174EA6;\n",
              "      --disabled-fill-color: #AAA;\n",
              "      --disabled-bg-color: #DDD;\n",
              "  }\n",
              "\n",
              "  [theme=dark] .colab-df-quickchart {\n",
              "      --bg-color: #3B4455;\n",
              "      --fill-color: #D2E3FC;\n",
              "      --hover-bg-color: #434B5C;\n",
              "      --hover-fill-color: #FFFFFF;\n",
              "      --disabled-bg-color: #3B4455;\n",
              "      --disabled-fill-color: #666;\n",
              "  }\n",
              "\n",
              "  .colab-df-quickchart {\n",
              "    background-color: var(--bg-color);\n",
              "    border: none;\n",
              "    border-radius: 50%;\n",
              "    cursor: pointer;\n",
              "    display: none;\n",
              "    fill: var(--fill-color);\n",
              "    height: 32px;\n",
              "    padding: 0;\n",
              "    width: 32px;\n",
              "  }\n",
              "\n",
              "  .colab-df-quickchart:hover {\n",
              "    background-color: var(--hover-bg-color);\n",
              "    box-shadow: 0 1px 2px rgba(60, 64, 67, 0.3), 0 1px 3px 1px rgba(60, 64, 67, 0.15);\n",
              "    fill: var(--button-hover-fill-color);\n",
              "  }\n",
              "\n",
              "  .colab-df-quickchart-complete:disabled,\n",
              "  .colab-df-quickchart-complete:disabled:hover {\n",
              "    background-color: var(--disabled-bg-color);\n",
              "    fill: var(--disabled-fill-color);\n",
              "    box-shadow: none;\n",
              "  }\n",
              "\n",
              "  .colab-df-spinner {\n",
              "    border: 2px solid var(--fill-color);\n",
              "    border-color: transparent;\n",
              "    border-bottom-color: var(--fill-color);\n",
              "    animation:\n",
              "      spin 1s steps(1) infinite;\n",
              "  }\n",
              "\n",
              "  @keyframes spin {\n",
              "    0% {\n",
              "      border-color: transparent;\n",
              "      border-bottom-color: var(--fill-color);\n",
              "      border-left-color: var(--fill-color);\n",
              "    }\n",
              "    20% {\n",
              "      border-color: transparent;\n",
              "      border-left-color: var(--fill-color);\n",
              "      border-top-color: var(--fill-color);\n",
              "    }\n",
              "    30% {\n",
              "      border-color: transparent;\n",
              "      border-left-color: var(--fill-color);\n",
              "      border-top-color: var(--fill-color);\n",
              "      border-right-color: var(--fill-color);\n",
              "    }\n",
              "    40% {\n",
              "      border-color: transparent;\n",
              "      border-right-color: var(--fill-color);\n",
              "      border-top-color: var(--fill-color);\n",
              "    }\n",
              "    60% {\n",
              "      border-color: transparent;\n",
              "      border-right-color: var(--fill-color);\n",
              "    }\n",
              "    80% {\n",
              "      border-color: transparent;\n",
              "      border-right-color: var(--fill-color);\n",
              "      border-bottom-color: var(--fill-color);\n",
              "    }\n",
              "    90% {\n",
              "      border-color: transparent;\n",
              "      border-bottom-color: var(--fill-color);\n",
              "    }\n",
              "  }\n",
              "</style>\n",
              "\n",
              "  <script>\n",
              "    async function quickchart(key) {\n",
              "      const quickchartButtonEl =\n",
              "        document.querySelector('#' + key + ' button');\n",
              "      quickchartButtonEl.disabled = true;  // To prevent multiple clicks.\n",
              "      quickchartButtonEl.classList.add('colab-df-spinner');\n",
              "      try {\n",
              "        const charts = await google.colab.kernel.invokeFunction(\n",
              "            'suggestCharts', [key], {});\n",
              "      } catch (error) {\n",
              "        console.error('Error during call to suggestCharts:', error);\n",
              "      }\n",
              "      quickchartButtonEl.classList.remove('colab-df-spinner');\n",
              "      quickchartButtonEl.classList.add('colab-df-quickchart-complete');\n",
              "    }\n",
              "    (() => {\n",
              "      let quickchartButtonEl =\n",
              "        document.querySelector('#df-127e1401-62b1-4297-8cc9-28a5fcddaec1 button');\n",
              "      quickchartButtonEl.style.display =\n",
              "        google.colab.kernel.accessAllowed ? 'block' : 'none';\n",
              "    })();\n",
              "  </script>\n",
              "</div>\n",
              "    </div>\n",
              "  </div>\n"
            ]
          },
          "metadata": {},
          "execution_count": 56
        }
      ]
    },
    {
      "cell_type": "code",
      "source": [
        "df.rename(columns=lambda x: x.strip().replace(\" \", \"_\"), inplace=True)\n",
        "df.head(1)"
      ],
      "metadata": {
        "colab": {
          "base_uri": "https://localhost:8080/",
          "height": 81
        },
        "id": "6pTeX30ebsWe",
        "outputId": "338a33d1-f0a1-4d4e-ac50-62e556dfcf8f"
      },
      "execution_count": 57,
      "outputs": [
        {
          "output_type": "execute_result",
          "data": {
            "text/plain": [
              "   Unnamed:_0  user_id test_group  converted  total_ads most_ads_day  \\\n",
              "0           0  1069124         ad      False        130       Monday   \n",
              "\n",
              "   most_ads_hour  \n",
              "0             20  "
            ],
            "text/html": [
              "\n",
              "  <div id=\"df-9eb0d45c-7c0a-4075-af4e-575166f7cfb8\" class=\"colab-df-container\">\n",
              "    <div>\n",
              "<style scoped>\n",
              "    .dataframe tbody tr th:only-of-type {\n",
              "        vertical-align: middle;\n",
              "    }\n",
              "\n",
              "    .dataframe tbody tr th {\n",
              "        vertical-align: top;\n",
              "    }\n",
              "\n",
              "    .dataframe thead th {\n",
              "        text-align: right;\n",
              "    }\n",
              "</style>\n",
              "<table border=\"1\" class=\"dataframe\">\n",
              "  <thead>\n",
              "    <tr style=\"text-align: right;\">\n",
              "      <th></th>\n",
              "      <th>Unnamed:_0</th>\n",
              "      <th>user_id</th>\n",
              "      <th>test_group</th>\n",
              "      <th>converted</th>\n",
              "      <th>total_ads</th>\n",
              "      <th>most_ads_day</th>\n",
              "      <th>most_ads_hour</th>\n",
              "    </tr>\n",
              "  </thead>\n",
              "  <tbody>\n",
              "    <tr>\n",
              "      <th>0</th>\n",
              "      <td>0</td>\n",
              "      <td>1069124</td>\n",
              "      <td>ad</td>\n",
              "      <td>False</td>\n",
              "      <td>130</td>\n",
              "      <td>Monday</td>\n",
              "      <td>20</td>\n",
              "    </tr>\n",
              "  </tbody>\n",
              "</table>\n",
              "</div>\n",
              "    <div class=\"colab-df-buttons\">\n",
              "\n",
              "  <div class=\"colab-df-container\">\n",
              "    <button class=\"colab-df-convert\" onclick=\"convertToInteractive('df-9eb0d45c-7c0a-4075-af4e-575166f7cfb8')\"\n",
              "            title=\"Convert this dataframe to an interactive table.\"\n",
              "            style=\"display:none;\">\n",
              "\n",
              "  <svg xmlns=\"http://www.w3.org/2000/svg\" height=\"24px\" viewBox=\"0 -960 960 960\">\n",
              "    <path d=\"M120-120v-720h720v720H120Zm60-500h600v-160H180v160Zm220 220h160v-160H400v160Zm0 220h160v-160H400v160ZM180-400h160v-160H180v160Zm440 0h160v-160H620v160ZM180-180h160v-160H180v160Zm440 0h160v-160H620v160Z\"/>\n",
              "  </svg>\n",
              "    </button>\n",
              "\n",
              "  <style>\n",
              "    .colab-df-container {\n",
              "      display:flex;\n",
              "      gap: 12px;\n",
              "    }\n",
              "\n",
              "    .colab-df-convert {\n",
              "      background-color: #E8F0FE;\n",
              "      border: none;\n",
              "      border-radius: 50%;\n",
              "      cursor: pointer;\n",
              "      display: none;\n",
              "      fill: #1967D2;\n",
              "      height: 32px;\n",
              "      padding: 0 0 0 0;\n",
              "      width: 32px;\n",
              "    }\n",
              "\n",
              "    .colab-df-convert:hover {\n",
              "      background-color: #E2EBFA;\n",
              "      box-shadow: 0px 1px 2px rgba(60, 64, 67, 0.3), 0px 1px 3px 1px rgba(60, 64, 67, 0.15);\n",
              "      fill: #174EA6;\n",
              "    }\n",
              "\n",
              "    .colab-df-buttons div {\n",
              "      margin-bottom: 4px;\n",
              "    }\n",
              "\n",
              "    [theme=dark] .colab-df-convert {\n",
              "      background-color: #3B4455;\n",
              "      fill: #D2E3FC;\n",
              "    }\n",
              "\n",
              "    [theme=dark] .colab-df-convert:hover {\n",
              "      background-color: #434B5C;\n",
              "      box-shadow: 0px 1px 3px 1px rgba(0, 0, 0, 0.15);\n",
              "      filter: drop-shadow(0px 1px 2px rgba(0, 0, 0, 0.3));\n",
              "      fill: #FFFFFF;\n",
              "    }\n",
              "  </style>\n",
              "\n",
              "    <script>\n",
              "      const buttonEl =\n",
              "        document.querySelector('#df-9eb0d45c-7c0a-4075-af4e-575166f7cfb8 button.colab-df-convert');\n",
              "      buttonEl.style.display =\n",
              "        google.colab.kernel.accessAllowed ? 'block' : 'none';\n",
              "\n",
              "      async function convertToInteractive(key) {\n",
              "        const element = document.querySelector('#df-9eb0d45c-7c0a-4075-af4e-575166f7cfb8');\n",
              "        const dataTable =\n",
              "          await google.colab.kernel.invokeFunction('convertToInteractive',\n",
              "                                                    [key], {});\n",
              "        if (!dataTable) return;\n",
              "\n",
              "        const docLinkHtml = 'Like what you see? Visit the ' +\n",
              "          '<a target=\"_blank\" href=https://colab.research.google.com/notebooks/data_table.ipynb>data table notebook</a>'\n",
              "          + ' to learn more about interactive tables.';\n",
              "        element.innerHTML = '';\n",
              "        dataTable['output_type'] = 'display_data';\n",
              "        await google.colab.output.renderOutput(dataTable, element);\n",
              "        const docLink = document.createElement('div');\n",
              "        docLink.innerHTML = docLinkHtml;\n",
              "        element.appendChild(docLink);\n",
              "      }\n",
              "    </script>\n",
              "  </div>\n",
              "\n",
              "    </div>\n",
              "  </div>\n"
            ]
          },
          "metadata": {},
          "execution_count": 57
        }
      ]
    },
    {
      "cell_type": "code",
      "source": [
        "df.shape"
      ],
      "metadata": {
        "colab": {
          "base_uri": "https://localhost:8080/"
        },
        "id": "1SLBvks9Zxqm",
        "outputId": "ad497226-c945-41fc-8f8a-7669bb150d3e"
      },
      "execution_count": 58,
      "outputs": [
        {
          "output_type": "execute_result",
          "data": {
            "text/plain": [
              "(588101, 7)"
            ]
          },
          "metadata": {},
          "execution_count": 58
        }
      ]
    },
    {
      "cell_type": "code",
      "source": [
        "# Mengecek missing value\n",
        "df.isnull().sum()"
      ],
      "metadata": {
        "colab": {
          "base_uri": "https://localhost:8080/"
        },
        "id": "y03-TVJFZ1Rq",
        "outputId": "00ca2a3f-b53b-47ee-f2ea-56c956b74794"
      },
      "execution_count": 59,
      "outputs": [
        {
          "output_type": "execute_result",
          "data": {
            "text/plain": [
              "Unnamed:_0       0\n",
              "user_id          0\n",
              "test_group       0\n",
              "converted        0\n",
              "total_ads        0\n",
              "most_ads_day     0\n",
              "most_ads_hour    0\n",
              "dtype: int64"
            ]
          },
          "metadata": {},
          "execution_count": 59
        }
      ]
    },
    {
      "cell_type": "code",
      "source": [
        "# Mengecek Duplikasi data\n",
        "df[df[\"user_id\"].duplicated()].count()"
      ],
      "metadata": {
        "colab": {
          "base_uri": "https://localhost:8080/"
        },
        "id": "vvYzOeZ7apq4",
        "outputId": "1f9622bf-95f2-4f3e-d40f-862e360941b0"
      },
      "execution_count": 60,
      "outputs": [
        {
          "output_type": "execute_result",
          "data": {
            "text/plain": [
              "Unnamed:_0       0\n",
              "user_id          0\n",
              "test_group       0\n",
              "converted        0\n",
              "total_ads        0\n",
              "most_ads_day     0\n",
              "most_ads_hour    0\n",
              "dtype: int64"
            ]
          },
          "metadata": {},
          "execution_count": 60
        }
      ]
    },
    {
      "cell_type": "code",
      "source": [
        "# Label encoding (True=1 and False=0)\n",
        "df[\"converted\"] = np.where(df[\"converted\"]==True, 1, 0)"
      ],
      "metadata": {
        "id": "ovCtz2ONaub3"
      },
      "execution_count": 61,
      "outputs": []
    },
    {
      "cell_type": "code",
      "source": [
        "# Menghapus kolom Unnamed:_0\n",
        "df.drop('Unnamed:_0', axis=1, inplace=True)"
      ],
      "metadata": {
        "id": "bvXy0S_JcC1n"
      },
      "execution_count": 62,
      "outputs": []
    },
    {
      "cell_type": "code",
      "source": [
        "df_clean = df.copy()"
      ],
      "metadata": {
        "id": "6VdJIxvscSgo"
      },
      "execution_count": 63,
      "outputs": []
    },
    {
      "cell_type": "code",
      "source": [
        "df_clean.head()"
      ],
      "metadata": {
        "colab": {
          "base_uri": "https://localhost:8080/",
          "height": 206
        },
        "id": "kKrIGBcfcT6b",
        "outputId": "ca8ebe10-d836-411a-f2f6-12dd9cc4fa20"
      },
      "execution_count": 64,
      "outputs": [
        {
          "output_type": "execute_result",
          "data": {
            "text/plain": [
              "   user_id test_group  converted  total_ads most_ads_day  most_ads_hour\n",
              "0  1069124         ad          0        130       Monday             20\n",
              "1  1119715         ad          0         93      Tuesday             22\n",
              "2  1144181         ad          0         21      Tuesday             18\n",
              "3  1435133         ad          0        355      Tuesday             10\n",
              "4  1015700         ad          0        276       Friday             14"
            ],
            "text/html": [
              "\n",
              "  <div id=\"df-d51be8a7-4ec7-4308-95bb-4fe75fbefcd2\" class=\"colab-df-container\">\n",
              "    <div>\n",
              "<style scoped>\n",
              "    .dataframe tbody tr th:only-of-type {\n",
              "        vertical-align: middle;\n",
              "    }\n",
              "\n",
              "    .dataframe tbody tr th {\n",
              "        vertical-align: top;\n",
              "    }\n",
              "\n",
              "    .dataframe thead th {\n",
              "        text-align: right;\n",
              "    }\n",
              "</style>\n",
              "<table border=\"1\" class=\"dataframe\">\n",
              "  <thead>\n",
              "    <tr style=\"text-align: right;\">\n",
              "      <th></th>\n",
              "      <th>user_id</th>\n",
              "      <th>test_group</th>\n",
              "      <th>converted</th>\n",
              "      <th>total_ads</th>\n",
              "      <th>most_ads_day</th>\n",
              "      <th>most_ads_hour</th>\n",
              "    </tr>\n",
              "  </thead>\n",
              "  <tbody>\n",
              "    <tr>\n",
              "      <th>0</th>\n",
              "      <td>1069124</td>\n",
              "      <td>ad</td>\n",
              "      <td>0</td>\n",
              "      <td>130</td>\n",
              "      <td>Monday</td>\n",
              "      <td>20</td>\n",
              "    </tr>\n",
              "    <tr>\n",
              "      <th>1</th>\n",
              "      <td>1119715</td>\n",
              "      <td>ad</td>\n",
              "      <td>0</td>\n",
              "      <td>93</td>\n",
              "      <td>Tuesday</td>\n",
              "      <td>22</td>\n",
              "    </tr>\n",
              "    <tr>\n",
              "      <th>2</th>\n",
              "      <td>1144181</td>\n",
              "      <td>ad</td>\n",
              "      <td>0</td>\n",
              "      <td>21</td>\n",
              "      <td>Tuesday</td>\n",
              "      <td>18</td>\n",
              "    </tr>\n",
              "    <tr>\n",
              "      <th>3</th>\n",
              "      <td>1435133</td>\n",
              "      <td>ad</td>\n",
              "      <td>0</td>\n",
              "      <td>355</td>\n",
              "      <td>Tuesday</td>\n",
              "      <td>10</td>\n",
              "    </tr>\n",
              "    <tr>\n",
              "      <th>4</th>\n",
              "      <td>1015700</td>\n",
              "      <td>ad</td>\n",
              "      <td>0</td>\n",
              "      <td>276</td>\n",
              "      <td>Friday</td>\n",
              "      <td>14</td>\n",
              "    </tr>\n",
              "  </tbody>\n",
              "</table>\n",
              "</div>\n",
              "    <div class=\"colab-df-buttons\">\n",
              "\n",
              "  <div class=\"colab-df-container\">\n",
              "    <button class=\"colab-df-convert\" onclick=\"convertToInteractive('df-d51be8a7-4ec7-4308-95bb-4fe75fbefcd2')\"\n",
              "            title=\"Convert this dataframe to an interactive table.\"\n",
              "            style=\"display:none;\">\n",
              "\n",
              "  <svg xmlns=\"http://www.w3.org/2000/svg\" height=\"24px\" viewBox=\"0 -960 960 960\">\n",
              "    <path d=\"M120-120v-720h720v720H120Zm60-500h600v-160H180v160Zm220 220h160v-160H400v160Zm0 220h160v-160H400v160ZM180-400h160v-160H180v160Zm440 0h160v-160H620v160ZM180-180h160v-160H180v160Zm440 0h160v-160H620v160Z\"/>\n",
              "  </svg>\n",
              "    </button>\n",
              "\n",
              "  <style>\n",
              "    .colab-df-container {\n",
              "      display:flex;\n",
              "      gap: 12px;\n",
              "    }\n",
              "\n",
              "    .colab-df-convert {\n",
              "      background-color: #E8F0FE;\n",
              "      border: none;\n",
              "      border-radius: 50%;\n",
              "      cursor: pointer;\n",
              "      display: none;\n",
              "      fill: #1967D2;\n",
              "      height: 32px;\n",
              "      padding: 0 0 0 0;\n",
              "      width: 32px;\n",
              "    }\n",
              "\n",
              "    .colab-df-convert:hover {\n",
              "      background-color: #E2EBFA;\n",
              "      box-shadow: 0px 1px 2px rgba(60, 64, 67, 0.3), 0px 1px 3px 1px rgba(60, 64, 67, 0.15);\n",
              "      fill: #174EA6;\n",
              "    }\n",
              "\n",
              "    .colab-df-buttons div {\n",
              "      margin-bottom: 4px;\n",
              "    }\n",
              "\n",
              "    [theme=dark] .colab-df-convert {\n",
              "      background-color: #3B4455;\n",
              "      fill: #D2E3FC;\n",
              "    }\n",
              "\n",
              "    [theme=dark] .colab-df-convert:hover {\n",
              "      background-color: #434B5C;\n",
              "      box-shadow: 0px 1px 3px 1px rgba(0, 0, 0, 0.15);\n",
              "      filter: drop-shadow(0px 1px 2px rgba(0, 0, 0, 0.3));\n",
              "      fill: #FFFFFF;\n",
              "    }\n",
              "  </style>\n",
              "\n",
              "    <script>\n",
              "      const buttonEl =\n",
              "        document.querySelector('#df-d51be8a7-4ec7-4308-95bb-4fe75fbefcd2 button.colab-df-convert');\n",
              "      buttonEl.style.display =\n",
              "        google.colab.kernel.accessAllowed ? 'block' : 'none';\n",
              "\n",
              "      async function convertToInteractive(key) {\n",
              "        const element = document.querySelector('#df-d51be8a7-4ec7-4308-95bb-4fe75fbefcd2');\n",
              "        const dataTable =\n",
              "          await google.colab.kernel.invokeFunction('convertToInteractive',\n",
              "                                                    [key], {});\n",
              "        if (!dataTable) return;\n",
              "\n",
              "        const docLinkHtml = 'Like what you see? Visit the ' +\n",
              "          '<a target=\"_blank\" href=https://colab.research.google.com/notebooks/data_table.ipynb>data table notebook</a>'\n",
              "          + ' to learn more about interactive tables.';\n",
              "        element.innerHTML = '';\n",
              "        dataTable['output_type'] = 'display_data';\n",
              "        await google.colab.output.renderOutput(dataTable, element);\n",
              "        const docLink = document.createElement('div');\n",
              "        docLink.innerHTML = docLinkHtml;\n",
              "        element.appendChild(docLink);\n",
              "      }\n",
              "    </script>\n",
              "  </div>\n",
              "\n",
              "\n",
              "<div id=\"df-94f9ae9e-e5a2-42ca-8e93-da3dcb602d2e\">\n",
              "  <button class=\"colab-df-quickchart\" onclick=\"quickchart('df-94f9ae9e-e5a2-42ca-8e93-da3dcb602d2e')\"\n",
              "            title=\"Suggest charts.\"\n",
              "            style=\"display:none;\">\n",
              "\n",
              "<svg xmlns=\"http://www.w3.org/2000/svg\" height=\"24px\"viewBox=\"0 0 24 24\"\n",
              "     width=\"24px\">\n",
              "    <g>\n",
              "        <path d=\"M19 3H5c-1.1 0-2 .9-2 2v14c0 1.1.9 2 2 2h14c1.1 0 2-.9 2-2V5c0-1.1-.9-2-2-2zM9 17H7v-7h2v7zm4 0h-2V7h2v10zm4 0h-2v-4h2v4z\"/>\n",
              "    </g>\n",
              "</svg>\n",
              "  </button>\n",
              "\n",
              "<style>\n",
              "  .colab-df-quickchart {\n",
              "      --bg-color: #E8F0FE;\n",
              "      --fill-color: #1967D2;\n",
              "      --hover-bg-color: #E2EBFA;\n",
              "      --hover-fill-color: #174EA6;\n",
              "      --disabled-fill-color: #AAA;\n",
              "      --disabled-bg-color: #DDD;\n",
              "  }\n",
              "\n",
              "  [theme=dark] .colab-df-quickchart {\n",
              "      --bg-color: #3B4455;\n",
              "      --fill-color: #D2E3FC;\n",
              "      --hover-bg-color: #434B5C;\n",
              "      --hover-fill-color: #FFFFFF;\n",
              "      --disabled-bg-color: #3B4455;\n",
              "      --disabled-fill-color: #666;\n",
              "  }\n",
              "\n",
              "  .colab-df-quickchart {\n",
              "    background-color: var(--bg-color);\n",
              "    border: none;\n",
              "    border-radius: 50%;\n",
              "    cursor: pointer;\n",
              "    display: none;\n",
              "    fill: var(--fill-color);\n",
              "    height: 32px;\n",
              "    padding: 0;\n",
              "    width: 32px;\n",
              "  }\n",
              "\n",
              "  .colab-df-quickchart:hover {\n",
              "    background-color: var(--hover-bg-color);\n",
              "    box-shadow: 0 1px 2px rgba(60, 64, 67, 0.3), 0 1px 3px 1px rgba(60, 64, 67, 0.15);\n",
              "    fill: var(--button-hover-fill-color);\n",
              "  }\n",
              "\n",
              "  .colab-df-quickchart-complete:disabled,\n",
              "  .colab-df-quickchart-complete:disabled:hover {\n",
              "    background-color: var(--disabled-bg-color);\n",
              "    fill: var(--disabled-fill-color);\n",
              "    box-shadow: none;\n",
              "  }\n",
              "\n",
              "  .colab-df-spinner {\n",
              "    border: 2px solid var(--fill-color);\n",
              "    border-color: transparent;\n",
              "    border-bottom-color: var(--fill-color);\n",
              "    animation:\n",
              "      spin 1s steps(1) infinite;\n",
              "  }\n",
              "\n",
              "  @keyframes spin {\n",
              "    0% {\n",
              "      border-color: transparent;\n",
              "      border-bottom-color: var(--fill-color);\n",
              "      border-left-color: var(--fill-color);\n",
              "    }\n",
              "    20% {\n",
              "      border-color: transparent;\n",
              "      border-left-color: var(--fill-color);\n",
              "      border-top-color: var(--fill-color);\n",
              "    }\n",
              "    30% {\n",
              "      border-color: transparent;\n",
              "      border-left-color: var(--fill-color);\n",
              "      border-top-color: var(--fill-color);\n",
              "      border-right-color: var(--fill-color);\n",
              "    }\n",
              "    40% {\n",
              "      border-color: transparent;\n",
              "      border-right-color: var(--fill-color);\n",
              "      border-top-color: var(--fill-color);\n",
              "    }\n",
              "    60% {\n",
              "      border-color: transparent;\n",
              "      border-right-color: var(--fill-color);\n",
              "    }\n",
              "    80% {\n",
              "      border-color: transparent;\n",
              "      border-right-color: var(--fill-color);\n",
              "      border-bottom-color: var(--fill-color);\n",
              "    }\n",
              "    90% {\n",
              "      border-color: transparent;\n",
              "      border-bottom-color: var(--fill-color);\n",
              "    }\n",
              "  }\n",
              "</style>\n",
              "\n",
              "  <script>\n",
              "    async function quickchart(key) {\n",
              "      const quickchartButtonEl =\n",
              "        document.querySelector('#' + key + ' button');\n",
              "      quickchartButtonEl.disabled = true;  // To prevent multiple clicks.\n",
              "      quickchartButtonEl.classList.add('colab-df-spinner');\n",
              "      try {\n",
              "        const charts = await google.colab.kernel.invokeFunction(\n",
              "            'suggestCharts', [key], {});\n",
              "      } catch (error) {\n",
              "        console.error('Error during call to suggestCharts:', error);\n",
              "      }\n",
              "      quickchartButtonEl.classList.remove('colab-df-spinner');\n",
              "      quickchartButtonEl.classList.add('colab-df-quickchart-complete');\n",
              "    }\n",
              "    (() => {\n",
              "      let quickchartButtonEl =\n",
              "        document.querySelector('#df-94f9ae9e-e5a2-42ca-8e93-da3dcb602d2e button');\n",
              "      quickchartButtonEl.style.display =\n",
              "        google.colab.kernel.accessAllowed ? 'block' : 'none';\n",
              "    })();\n",
              "  </script>\n",
              "</div>\n",
              "    </div>\n",
              "  </div>\n"
            ]
          },
          "metadata": {},
          "execution_count": 64
        }
      ]
    },
    {
      "cell_type": "markdown",
      "source": [
        "## EDA"
      ],
      "metadata": {
        "id": "HLUSYBi7cllU"
      }
    },
    {
      "cell_type": "markdown",
      "source": [
        "### Proporsi data pelanggan yang melihat iklan dan PSA"
      ],
      "metadata": {
        "id": "vAZAxHtih82o"
      }
    },
    {
      "cell_type": "code",
      "source": [
        "ax = df_clean[\"test_group\"].value_counts().plot(kind=\"pie\", autopct='%1.1f%%')\n",
        "ax.set_title('Piechart Proporsi data ad (iklan) dan psa (Public Service Announcement)')\n",
        "plt.show()"
      ],
      "metadata": {
        "colab": {
          "base_uri": "https://localhost:8080/",
          "height": 428
        },
        "id": "Xg6vk6kZeDXB",
        "outputId": "ad18fb0f-fd41-4938-ee3a-9f529129b342"
      },
      "execution_count": 65,
      "outputs": [
        {
          "output_type": "display_data",
          "data": {
            "text/plain": [
              "<Figure size 640x480 with 1 Axes>"
            ],
            "image/png": "[encoded data removed]"
          },
          "metadata": {}
        }
      ]
    },
    {
      "cell_type": "markdown",
      "source": [
        "### Distribusi Data"
      ],
      "metadata": {
        "id": "DldJdBdStVYK"
      }
    },
    {
      "cell_type": "code",
      "source": [
        "def val_count(column):\n",
        "    plt.figure(figsize=(7,5))\n",
        "    sns.countplot(data=df_clean, x=column)\n",
        "    plt.title(f'Value Count - {column}')\n",
        "    plt.show()"
      ],
      "metadata": {
        "id": "h0G06L9afkBe"
      },
      "execution_count": 66,
      "outputs": []
    },
    {
      "cell_type": "code",
      "source": [
        "#create columns of interest\n",
        "col_lst = df_clean.columns[[1,2,4,5]]\n",
        "\n",
        "#loop through columns of interest\n",
        "for i in col_lst:\n",
        "    val_count(i)"
      ],
      "metadata": {
        "colab": {
          "base_uri": "https://localhost:8080/",
          "height": 1000
        },
        "id": "NWISIRiJflvC",
        "outputId": "7a4bce3c-fdd8-4a41-fb1d-a93271be9b7e"
      },
      "execution_count": 67,
      "outputs": [
        {
          "output_type": "display_data",
          "data": {
            "text/plain": [
              "<Figure size 700x500 with 1 Axes>"
            ],
            "image/png": "[encoded data removed]"
          },
          "metadata": {}
        },
        {
          "output_type": "display_data",
          "data": {
            "text/plain": [
              "<Figure size 700x500 with 1 Axes>"
            ],
            "image/png": "[encoded data removed]"
          },
          "metadata": {}
        },
        {
          "output_type": "display_data",
          "data": {
            "text/plain": [
              "<Figure size 700x500 with 1 Axes>"
            ],
            "image/png": "[encoded data removed]"
          },
          "metadata": {}
        },
        {
          "output_type": "display_data",
          "data": {
            "text/plain": [
              "<Figure size 700x500 with 1 Axes>"
            ],
            "image/png": "[encoded data removed]"
          },
          "metadata": {}
        }
      ]
    },
    {
      "cell_type": "markdown",
      "source": [
        "informasi yang didapatkan:\n",
        "\n",
        "- Pengguna lebih banyak melihat iklan dibandingkan dengan mereka yang melihat psa\n",
        "\n",
        "- Iklan terbanyak yang dilihat oleh pengguna terjadi pada hari Jumat dan kemudian Senin\n",
        "\n",
        "- Antara pukul 10.00 dan 15.00, pengguna melihat iklan paling banyak"
      ],
      "metadata": {
        "id": "lzxNNkSQgGnp"
      }
    },
    {
      "cell_type": "markdown",
      "source": [
        "### Conversion Rate"
      ],
      "metadata": {
        "id": "s4cXPD2CiGhi"
      }
    },
    {
      "cell_type": "code",
      "source": [
        "print(df_clean.groupby(\"most_ads_day\")[\"converted\"].sum())\n",
        "\n",
        "ax =df_clean.groupby(by =['most_ads_day', 'test_group']).sum()['converted'].unstack('test_group').plot(kind='bar', figsize=(9,6), grid= True, stacked= True)\n",
        "ax.set_ylabel('converted')\n",
        "ax.set_title('Most ad days and converted')\n",
        "plt.show()"
      ],
      "metadata": {
        "colab": {
          "base_uri": "https://localhost:8080/",
          "height": 795
        },
        "id": "HERtlIl_g_7V",
        "outputId": "0ab5d5fd-7d90-412b-8ecd-7407b2d419ae"
      },
      "execution_count": 68,
      "outputs": [
        {
          "output_type": "stream",
          "name": "stdout",
          "text": [
            "most_ads_day\n",
            "Friday       2057\n",
            "Monday       2857\n",
            "Saturday     1719\n",
            "Sunday       2090\n",
            "Thursday     1790\n",
            "Tuesday      2312\n",
            "Wednesday    2018\n",
            "Name: converted, dtype: int64\n"
          ]
        },
        {
          "output_type": "display_data",
          "data": {
            "text/plain": [
              "<Figure size 900x600 with 1 Axes>"
            ],
            "image/png": "[encoded data removed]"
          },
          "metadata": {}
        }
      ]
    },
    {
      "cell_type": "markdown",
      "source": [
        "Dari tingkat konversi tersebut dapat disimpulkan bahwa iklan memperoleh tingkat konversi yang lebih tinggi (2,5547%) dibandingkan dengan PSA (1,7854%). Hal ini menunjukkan bahwa iklan berhasil menghasilkan konversi dan kampanye iklan lebih efektif."
      ],
      "metadata": {
        "id": "s2yqrIFsiU9-"
      }
    },
    {
      "cell_type": "code",
      "source": [],
      "metadata": {
        "id": "LidX71juil08"
      },
      "execution_count": null,
      "outputs": []
    },
    {
      "cell_type": "markdown",
      "source": [
        "## Uji signifikansi"
      ],
      "metadata": {
        "id": "8ryD15lvuMib"
      }
    },
    {
      "cell_type": "code",
      "source": [
        "ad_dist = df[df[\"test_group\"] == 'ad'].reset_index(drop=True)\n",
        "psa_dist = df[df[\"test_group\"] == 'psa'].reset_index(drop=True)"
      ],
      "metadata": {
        "id": "ciiGR5fSciby"
      },
      "execution_count": 81,
      "outputs": []
    },
    {
      "cell_type": "code",
      "source": [
        "# test signifikansi\n",
        "ttest_ind(psa_dist.converted, ad_dist.converted)"
      ],
      "metadata": {
        "colab": {
          "base_uri": "https://localhost:8080/"
        },
        "id": "2MtIohpouLt_",
        "outputId": "c3d11a61-ae7f-4fbc-f115-853845932c7c"
      },
      "execution_count": 75,
      "outputs": [
        {
          "output_type": "execute_result",
          "data": {
            "text/plain": [
              "Ttest_indResult(statistic=-7.37040597428566, pvalue=1.7033052627831264e-13)"
            ]
          },
          "metadata": {},
          "execution_count": 75
        }
      ]
    },
    {
      "cell_type": "code",
      "source": [
        "# Hitung Jumlah Sampel per Grup\n",
        "df_control = df[df['test_group']=='psa']\n",
        "df_treatment = df[df['test_group']=='ad']\n",
        "\n",
        "n_control = df_control.shape[0]\n",
        "n_treatment = df_treatment.shape[0]\n",
        "\n",
        "n_control, n_treatment"
      ],
      "metadata": {
        "colab": {
          "base_uri": "https://localhost:8080/"
        },
        "id": "tKm0agGh0Ma4",
        "outputId": "bc75e2b9-985b-408f-8431-7c9f0216eb40"
      },
      "execution_count": 84,
      "outputs": [
        {
          "output_type": "execute_result",
          "data": {
            "text/plain": [
              "(23524, 564577)"
            ]
          },
          "metadata": {},
          "execution_count": 84
        }
      ]
    },
    {
      "cell_type": "code",
      "source": [
        "# convident interval\n",
        "\n",
        "from statsmodels.stats.proportion import confint_proportions_2indep\n",
        "\n",
        "confidence_interval = confint_proportions_2indep(count1 = n_treatment, nobs1 = n_treatment,\n",
        "                                                 count2 = n_control, nobs2 = n_control,\n",
        "                                                 compare='diff', alpha=0.05)\n",
        "print(confidence_interval)"
      ],
      "metadata": {
        "colab": {
          "base_uri": "https://localhost:8080/"
        },
        "id": "_yJIC9CGzLRE",
        "outputId": "b0112f3d-2368-4a45-d721-f6a857dcdbfa"
      },
      "execution_count": 86,
      "outputs": [
        {
          "output_type": "stream",
          "name": "stdout",
          "text": [
            "(-6.804089934919766e-06, 0.00016327289638606857)\n"
          ]
        }
      ]
    },
    {
      "cell_type": "code",
      "source": [
        "# conversion rates\n",
        "converts_psa = psa_dist.groupby('converted')['user_id'].count()\n",
        "converts_ad = ad_dist.groupby('converted')['user_id'].count()\n",
        "(100 * converts_psa[1]/converts_psa[0]), (100 * converts_ad[1]/converts_ad[0])"
      ],
      "metadata": {
        "colab": {
          "base_uri": "https://localhost:8080/"
        },
        "id": "ixpXvK7kvvis",
        "outputId": "d5be502d-cd1f-4e66-bf50-a0ef4ac0b645"
      },
      "execution_count": 77,
      "outputs": [
        {
          "output_type": "execute_result",
          "data": {
            "text/plain": [
              "(1.8178670360110802, 2.6216295800812137)"
            ]
          },
          "metadata": {},
          "execution_count": 77
        }
      ]
    },
    {
      "cell_type": "markdown",
      "source": [
        "# Conclusion and Recommendation"
      ],
      "metadata": {
        "id": "IckYbL29dus4"
      }
    },
    {
      "cell_type": "markdown",
      "source": [
        "### Kesimpulan\n",
        "\n",
        "> Kampanye iklan berhasil mencapai tingkat konversi yang lebih tinggi sebesar 2,62% dibandingkan dengan kelompok PSA sebesar 1,81%. Hal ini menunjukkan bahwa kampanye iklan lebih efektif dalam mendorong konversi dibandingkan dengan PSA.\n",
        "\n",
        "> Nilai p uji t-test sebesar 0,0000 (Tolak H0) menunjukkan bahwa perbedaan tingkat konversi antara kedua kelompok tersebut signifikan secara statistik. Ini memberikan bukti kuat untuk perbedaan yang diamati antara kedua kelompok tersebut.\n",
        "\n",
        "> Secara keseluruhan, hasil ini menunjukkan bahwa kampanye iklan berhasil dalam mendorong konversi.\n",
        "\n",
        "### Rekomendasi\n",
        "\n",
        "> Berdasarkan hasil tersebut, dapat merekomendasikan untuk terus mengalokasikan sumber daya dan anggaran lebih kepada kelompok iklan daripada PSA. Tingkat konversi yang lebih tinggi dan signifikansi statistik menunjukkan bahwa iklan memiliki dampak positif yang jelas dalam mendorong konversi. Oleh karena itu, fokus pada strategi iklan yang telah terbukti efektif dan terus mengoptimalkannya dapat membantu mencapai tujuan kampanye dengan lebih efisien."
      ],
      "metadata": {
        "id": "3hxYZPApwhUm"
      }
    }
  ]
}